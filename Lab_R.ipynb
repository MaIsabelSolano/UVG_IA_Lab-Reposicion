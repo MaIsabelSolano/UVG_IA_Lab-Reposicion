{
 "cells": [
  {
   "cell_type": "markdown",
   "id": "f6d6bf74-aa24-4bb6-9db1-280b43112043",
   "metadata": {},
   "source": [
    "Universidad del Valle de Guatemala<br>Facultad de Ingeniería<br>Departamento de Ciencias de la Computación<br>Inteligencia Artificial<br><br>\n",
    "Ma. Isabel Solano Bonilla 20504\n",
    "\n",
    "# Laboratorio de Reposición \n",
    "\n",
    "## Instrucciones\n",
    "Esta actividad debe realizarse individualmente.\n",
    "- No se permitirá ni se aceptará cualquier indicio de copia. De presentarse, se procederá según el reglamento correspondiente.\n",
    "- Tendrán hasta la fecha indicada en Canvas para entregar este laboratorio.\n",
    "    - No se confíen, aprovechen el tiempo en clase para entender todos los ejercicios y avanzar lo más posible."
   ]
  },
  {
   "cell_type": "markdown",
   "id": "c6829c36-bc6d-4521-b649-681ccb47bb17",
   "metadata": {},
   "source": [
    "## Task 1\n",
    "Instrucciones: Usted usará Python a través de un Jupyter Notebook para llevar a cabo este ejercicio. Recuerde utilizar comentarios para describir lo que está haciendo en cada parte del proceso. Estará usando el juego de datos proporcionado dentro del portal. Al finalizar recuerde subir al portal un link a su repositorio en el que se pueda correr su notebook, usando https://mybinder.org/. <br><br>\n",
    "El juego de datos proporcionado es parte de la plataforma Kaggle, dentro del cual se muestran condiciones físicas y contextuales para más de 4000 pacientes de enfermedades cardíacas. El dataset relaciona a cada paciente con una etiqueta (1 = tuvo un paro cardíaco, 0 = no tuvo paro cardíaco).<br><br>\n",
    "Abajo una breve descripción de las variables incluidas:\n",
    "- Demographic:\n",
    "    - Sex: male or female(Nominal)\n",
    "    - Age: Age of the patient;(Continuous - Although the recorded ages have been truncated to whole numbers, the concept of age is continuous)\n",
    "- Behavioral:\n",
    "    - Current Smoker: whether or not the patient is a current smoker (Nominal)\n",
    "    - Cigs Per Day: the number of cigarettes that the person smoked on average in one day.(can be considered continuous as one can have any number of cigarettes, even half a cigarette.)\n",
    "    - Medical( history)\n",
    "    - BP Meds: whether or not the patient was on blood pressure medication (Nominal)\n",
    "    - Prevalent Stroke: whether or not the patient had previously had a stroke (Nominal)\n",
    "    - Prevalent Hyp: whether or not the patient was hypertensive (Nominal)\n",
    "    - Diabetes: whether or not the patient had diabetes (Nominal)\n",
    "- Medical(current)\n",
    "    - Tot Chol: total cholesterol level (Continuous)\n",
    "    - Sys BP: systolic blood pressure (Continuous)\n",
    "    - Dia BP: diastolic blood pressure (Continuous)\n",
    "    - BMI: Body Mass Index (Continuous)\n",
    "    - Heart Rate: heart rate (Continuous - In medical research, variables such as heart rate though in fact discrete, yet are considered continuous because of large number of possible values.)\n",
    "    - Glucose: glucose level (Continuous)\n",
    "<br>\n",
    "Para este ejercicio se le pide que proporcione un modelo de regresión logística polinomial que prediga fielmente si\n",
    "un paciente sufrirá de un paro cardíaco."
   ]
  },
  {
   "cell_type": "markdown",
   "id": "1dc6a013-e28e-4f12-8423-6a3c83bbfee3",
   "metadata": {},
   "source": [
    "## Task 1.1\n",
    "Leer el archivo CSV proporcionado y almacenarlo en un np.array para ser trabajado en el notebook."
   ]
  },
  {
   "cell_type": "code",
   "execution_count": null,
   "id": "f7fab6de-8a74-4334-80d5-595e538a397d",
   "metadata": {},
   "outputs": [],
   "source": []
  },
  {
   "cell_type": "markdown",
   "id": "2e081545-98e6-4c36-948e-2e35ee681802",
   "metadata": {},
   "source": [
    "## Task 1.2\n",
    "Ajustar un modelo logístico polinomial en base al juego de datos cargado de forma matricial que relaciona las\n",
    "variables independientes que usted considere apropiadas (puede no utilizar todas las componentes de X), con la\n",
    "variable dependiente de salida (sufre o no sufre un paro cardíaco)."
   ]
  },
  {
   "cell_type": "code",
   "execution_count": null,
   "id": "f361ed9e-c3a8-4347-b707-bebaacc62341",
   "metadata": {},
   "outputs": [],
   "source": []
  },
  {
   "cell_type": "markdown",
   "id": "1d7a0b2f-f2f8-4bf9-b57a-bc0236d5ecec",
   "metadata": {},
   "source": [
    "## Task 1.3\n",
    "Utilice la implementación vectorial del algoritmo de regresión logística (descenso del gradiente visto en clase)."
   ]
  },
  {
   "cell_type": "code",
   "execution_count": null,
   "id": "c0cc3e81-452d-4b14-9cd7-281313073afa",
   "metadata": {},
   "outputs": [],
   "source": []
  },
  {
   "cell_type": "markdown",
   "id": "54c0ffa4-27b4-465f-8c44-e1ae0e8fcded",
   "metadata": {},
   "source": [
    "## Task 1.4\n",
    "Usando cross-validation determine el grado del polinomio que mejor describe la nube de puntos (encuentre el mejor\n",
    "balance entre apego a los datos de entrenamiento y generalización para datos previamente no observados)."
   ]
  },
  {
   "cell_type": "code",
   "execution_count": null,
   "id": "6cbe6e5d-1989-4011-954d-04249891454a",
   "metadata": {},
   "outputs": [],
   "source": []
  },
  {
   "cell_type": "markdown",
   "id": "c9cfd7c7-bca7-47ff-bb34-6f7a50891abc",
   "metadata": {},
   "source": [
    "## Task 1.5\n",
    "Haga un análisis sobre sus hallazgos."
   ]
  },
  {
   "cell_type": "code",
   "execution_count": null,
   "id": "2c4dd006-0318-42a2-96c7-5962a408d355",
   "metadata": {},
   "outputs": [],
   "source": []
  }
 ],
 "metadata": {
  "kernelspec": {
   "display_name": "Python 3 (ipykernel)",
   "language": "python",
   "name": "python3"
  },
  "language_info": {
   "codemirror_mode": {
    "name": "ipython",
    "version": 3
   },
   "file_extension": ".py",
   "mimetype": "text/x-python",
   "name": "python",
   "nbconvert_exporter": "python",
   "pygments_lexer": "ipython3",
   "version": "3.10.2"
  }
 },
 "nbformat": 4,
 "nbformat_minor": 5
}
